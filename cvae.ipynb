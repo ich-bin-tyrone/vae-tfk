{
 "cells": [
  {
   "cell_type": "markdown",
   "metadata": {
    "id": "Ndo4ERqnwQOU"
   },
   "source": [
    "##### Copyright 2020 The TensorFlow Authors."
   ]
  },
  {
   "cell_type": "code",
   "execution_count": 1,
   "metadata": {
    "cellView": "form",
    "execution": {
     "iopub.execute_input": "2024-08-16T06:55:30.915123Z",
     "iopub.status.busy": "2024-08-16T06:55:30.914537Z",
     "iopub.status.idle": "2024-08-16T06:55:30.918275Z",
     "shell.execute_reply": "2024-08-16T06:55:30.917708Z"
    },
    "id": "MTKwbguKwT4R"
   },
   "outputs": [],
   "source": [
    "#@title Licensed under the Apache License, Version 2.0 (the \"License\");\n",
    "# you may not use this file except in compliance with the License.\n",
    "# You may obtain a copy of the License at\n",
    "#\n",
    "# https://www.apache.org/licenses/LICENSE-2.0\n",
    "#\n",
    "# Unless required by applicable law or agreed to in writing, software\n",
    "# distributed under the License is distributed on an \"AS IS\" BASIS,\n",
    "# WITHOUT WARRANTIES OR CONDITIONS OF ANY KIND, either express or implied.\n",
    "# See the License for the specific language governing permissions and\n",
    "# limitations under the License."
   ]
  },
  {
   "cell_type": "markdown",
   "metadata": {
    "id": "xfNT-mlFwxVM"
   },
   "source": [
    "# Convolutional Variational Autoencoder"
   ]
  },
  {
   "cell_type": "markdown",
   "metadata": {
    "id": "0TD5ZrvEMbhZ"
   },
   "source": [
    "<table class=\"tfo-notebook-buttons\" align=\"left\">\n",
    "  <td>\n",
    "    <a target=\"_blank\" href=\"https://www.tensorflow.org/tutorials/generative/cvae\">\n",
    "    <img src=\"https://www.tensorflow.org/images/tf_logo_32px.png\" />\n",
    "    View on TensorFlow.org</a>\n",
    "  </td>\n",
    "  <td>\n",
    "    <a target=\"_blank\" href=\"https://colab.research.google.com/github/tensorflow/docs/blob/master/site/en/tutorials/generative/cvae.ipynb\">\n",
    "    <img src=\"https://www.tensorflow.org/images/colab_logo_32px.png\" />\n",
    "    Run in Google Colab</a>\n",
    "  </td>\n",
    "  <td>\n",
    "    <a target=\"_blank\" href=\"https://github.com/tensorflow/docs/blob/master/site/en/tutorials/generative/cvae.ipynb\">\n",
    "    <img src=\"https://www.tensorflow.org/images/GitHub-Mark-32px.png\" />\n",
    "    View source on GitHub</a>\n",
    "  </td>\n",
    "  <td>\n",
    "    <a href=\"https://storage.googleapis.com/tensorflow_docs/docs/site/en/tutorials/generative/cvae.ipynb\"><img src=\"https://www.tensorflow.org/images/download_logo_32px.png\" />Download notebook</a>\n",
    "  </td>\n",
    "</table>"
   ]
  },
  {
   "cell_type": "markdown",
   "metadata": {
    "id": "ITZuApL56Mny"
   },
   "source": [
    "This notebook demonstrates how to train a Variational Autoencoder (VAE) ([1](https://arxiv.org/abs/1312.6114), [2](https://arxiv.org/abs/1401.4082)) on the MNIST dataset. A VAE is a probabilistic take on the autoencoder, a model which takes high dimensional input data and compresses it into a smaller representation. Unlike a traditional autoencoder, which maps the input onto a latent vector, a VAE maps the input data into the parameters of a probability distribution, such as the mean and variance of a Gaussian. This approach produces a continuous, structured latent space, which is useful for image generation.\n",
    "\n",
    "![CVAE image latent space](images/cvae_latent_space.jpg)"
   ]
  },
  {
   "cell_type": "markdown",
   "metadata": {
    "id": "e1_Y75QXJS6h"
   },
   "source": [
    "## Setup"
   ]
  },
  {
   "cell_type": "code",
   "execution_count": 2,
   "metadata": {
    "execution": {
     "iopub.execute_input": "2024-08-16T06:55:30.922247Z",
     "iopub.status.busy": "2024-08-16T06:55:30.921685Z",
     "iopub.status.idle": "2024-08-16T06:55:40.178601Z",
     "shell.execute_reply": "2024-08-16T06:55:40.177775Z"
    },
    "id": "P-JuIu2N_SQf"
   },
   "outputs": [
    {
     "name": "stdout",
     "output_type": "stream",
     "text": [
      "Defaulting to user installation because normal site-packages is not writeable\n",
      "Requirement already satisfied: tensorflow-probability in /Users/tyronemariano/Library/Python/3.9/lib/python/site-packages (0.25.0)\n",
      "Requirement already satisfied: absl-py in /Users/tyronemariano/Library/Python/3.9/lib/python/site-packages (from tensorflow-probability) (2.1.0)\n",
      "Requirement already satisfied: six>=1.10.0 in /Library/Developer/CommandLineTools/Library/Frameworks/Python3.framework/Versions/3.9/lib/python3.9/site-packages (from tensorflow-probability) (1.15.0)\n",
      "Requirement already satisfied: numpy>=1.13.3 in /Users/tyronemariano/Library/Python/3.9/lib/python/site-packages (from tensorflow-probability) (1.26.4)\n",
      "Requirement already satisfied: decorator in /Users/tyronemariano/Library/Python/3.9/lib/python/site-packages (from tensorflow-probability) (5.1.1)\n",
      "Requirement already satisfied: cloudpickle>=1.3 in /Users/tyronemariano/Library/Python/3.9/lib/python/site-packages (from tensorflow-probability) (3.1.1)\n",
      "Requirement already satisfied: gast>=0.3.2 in /Users/tyronemariano/Library/Python/3.9/lib/python/site-packages (from tensorflow-probability) (0.6.0)\n",
      "Requirement already satisfied: dm-tree in /Users/tyronemariano/Library/Python/3.9/lib/python/site-packages (from tensorflow-probability) (0.1.8)\n",
      "\n",
      "\u001b[1m[\u001b[0m\u001b[34;49mnotice\u001b[0m\u001b[1;39;49m]\u001b[0m\u001b[39;49m A new release of pip is available: \u001b[0m\u001b[31;49m24.2\u001b[0m\u001b[39;49m -> \u001b[0m\u001b[32;49m25.0.1\u001b[0m\n",
      "\u001b[1m[\u001b[0m\u001b[34;49mnotice\u001b[0m\u001b[1;39;49m]\u001b[0m\u001b[39;49m To update, run: \u001b[0m\u001b[32;49m/Library/Developer/CommandLineTools/usr/bin/python3 -m pip install --upgrade pip\u001b[0m\n",
      "Defaulting to user installation because normal site-packages is not writeable\n",
      "Requirement already satisfied: imageio in /Users/tyronemariano/Library/Python/3.9/lib/python/site-packages (2.37.0)\n",
      "Requirement already satisfied: numpy in /Users/tyronemariano/Library/Python/3.9/lib/python/site-packages (from imageio) (1.26.4)\n",
      "Requirement already satisfied: pillow>=8.3.2 in /Users/tyronemariano/Library/Python/3.9/lib/python/site-packages (from imageio) (10.4.0)\n",
      "\n",
      "\u001b[1m[\u001b[0m\u001b[34;49mnotice\u001b[0m\u001b[1;39;49m]\u001b[0m\u001b[39;49m A new release of pip is available: \u001b[0m\u001b[31;49m24.2\u001b[0m\u001b[39;49m -> \u001b[0m\u001b[32;49m25.0.1\u001b[0m\n",
      "\u001b[1m[\u001b[0m\u001b[34;49mnotice\u001b[0m\u001b[1;39;49m]\u001b[0m\u001b[39;49m To update, run: \u001b[0m\u001b[32;49m/Library/Developer/CommandLineTools/usr/bin/python3 -m pip install --upgrade pip\u001b[0m\n",
      "Defaulting to user installation because normal site-packages is not writeable\n",
      "Collecting git+https://github.com/tensorflow/docs\n",
      "  Cloning https://github.com/tensorflow/docs to /private/var/folders/fq/09kvyhs13yv_g91hj_p6y7m00000gn/T/pip-req-build-4tx19tqc\n",
      "  Running command git clone --filter=blob:none --quiet https://github.com/tensorflow/docs /private/var/folders/fq/09kvyhs13yv_g91hj_p6y7m00000gn/T/pip-req-build-4tx19tqc\n",
      "  Resolved https://github.com/tensorflow/docs to commit 0c634f4f3bd7ee661a92bf6f3f753931bc511192\n",
      "  Preparing metadata (setup.py) ... \u001b[?25ldone\n",
      "\u001b[?25hRequirement already satisfied: astor in /Users/tyronemariano/Library/Python/3.9/lib/python/site-packages (from tensorflow-docs==2025.2.12.60881) (0.8.1)\n",
      "Requirement already satisfied: absl-py in /Users/tyronemariano/Library/Python/3.9/lib/python/site-packages (from tensorflow-docs==2025.2.12.60881) (2.1.0)\n",
      "Requirement already satisfied: jinja2 in /Users/tyronemariano/Library/Python/3.9/lib/python/site-packages (from tensorflow-docs==2025.2.12.60881) (3.1.4)\n",
      "Requirement already satisfied: nbformat in /Users/tyronemariano/Library/Python/3.9/lib/python/site-packages (from tensorflow-docs==2025.2.12.60881) (5.10.4)\n",
      "Requirement already satisfied: protobuf>=3.12 in /Users/tyronemariano/Library/Python/3.9/lib/python/site-packages (from tensorflow-docs==2025.2.12.60881) (4.25.4)\n",
      "Requirement already satisfied: pyyaml in /Users/tyronemariano/Library/Python/3.9/lib/python/site-packages (from tensorflow-docs==2025.2.12.60881) (6.0.2)\n",
      "Requirement already satisfied: MarkupSafe>=2.0 in /Users/tyronemariano/Library/Python/3.9/lib/python/site-packages (from jinja2->tensorflow-docs==2025.2.12.60881) (2.1.5)\n",
      "Requirement already satisfied: fastjsonschema>=2.15 in /Users/tyronemariano/Library/Python/3.9/lib/python/site-packages (from nbformat->tensorflow-docs==2025.2.12.60881) (2.20.0)\n",
      "Requirement already satisfied: jsonschema>=2.6 in /Users/tyronemariano/Library/Python/3.9/lib/python/site-packages (from nbformat->tensorflow-docs==2025.2.12.60881) (4.23.0)\n",
      "Requirement already satisfied: jupyter-core!=5.0.*,>=4.12 in /Users/tyronemariano/Library/Python/3.9/lib/python/site-packages (from nbformat->tensorflow-docs==2025.2.12.60881) (5.7.2)\n",
      "Requirement already satisfied: traitlets>=5.1 in /Users/tyronemariano/Library/Python/3.9/lib/python/site-packages (from nbformat->tensorflow-docs==2025.2.12.60881) (5.14.3)\n",
      "Requirement already satisfied: attrs>=22.2.0 in /Users/tyronemariano/Library/Python/3.9/lib/python/site-packages (from jsonschema>=2.6->nbformat->tensorflow-docs==2025.2.12.60881) (24.2.0)\n",
      "Requirement already satisfied: jsonschema-specifications>=2023.03.6 in /Users/tyronemariano/Library/Python/3.9/lib/python/site-packages (from jsonschema>=2.6->nbformat->tensorflow-docs==2025.2.12.60881) (2023.12.1)\n",
      "Requirement already satisfied: referencing>=0.28.4 in /Users/tyronemariano/Library/Python/3.9/lib/python/site-packages (from jsonschema>=2.6->nbformat->tensorflow-docs==2025.2.12.60881) (0.35.1)\n",
      "Requirement already satisfied: rpds-py>=0.7.1 in /Users/tyronemariano/Library/Python/3.9/lib/python/site-packages (from jsonschema>=2.6->nbformat->tensorflow-docs==2025.2.12.60881) (0.20.0)\n",
      "Requirement already satisfied: platformdirs>=2.5 in /Users/tyronemariano/Library/Python/3.9/lib/python/site-packages (from jupyter-core!=5.0.*,>=4.12->nbformat->tensorflow-docs==2025.2.12.60881) (4.2.2)\n",
      "\n",
      "\u001b[1m[\u001b[0m\u001b[34;49mnotice\u001b[0m\u001b[1;39;49m]\u001b[0m\u001b[39;49m A new release of pip is available: \u001b[0m\u001b[31;49m24.2\u001b[0m\u001b[39;49m -> \u001b[0m\u001b[32;49m25.0.1\u001b[0m\n",
      "\u001b[1m[\u001b[0m\u001b[34;49mnotice\u001b[0m\u001b[1;39;49m]\u001b[0m\u001b[39;49m To update, run: \u001b[0m\u001b[32;49m/Library/Developer/CommandLineTools/usr/bin/python3 -m pip install --upgrade pip\u001b[0m\n"
     ]
    }
   ],
   "source": [
    "!pip install tensorflow-probability\n",
    "\n",
    "# to generate gifs\n",
    "!pip install imageio\n",
    "!pip install git+https://github.com/tensorflow/docs"
   ]
  },
  {
   "cell_type": "code",
   "execution_count": 3,
   "metadata": {},
   "outputs": [
    {
     "name": "stdout",
     "output_type": "stream",
     "text": [
      "Defaulting to user installation because normal site-packages is not writeable\n",
      "Requirement already satisfied: tensorflow in /Users/tyronemariano/Library/Python/3.9/lib/python/site-packages (2.18.0)\n",
      "Requirement already satisfied: absl-py>=1.0.0 in /Users/tyronemariano/Library/Python/3.9/lib/python/site-packages (from tensorflow) (2.1.0)\n",
      "Requirement already satisfied: astunparse>=1.6.0 in /Users/tyronemariano/Library/Python/3.9/lib/python/site-packages (from tensorflow) (1.6.3)\n",
      "Requirement already satisfied: flatbuffers>=24.3.25 in /Users/tyronemariano/Library/Python/3.9/lib/python/site-packages (from tensorflow) (24.3.25)\n",
      "Requirement already satisfied: gast!=0.5.0,!=0.5.1,!=0.5.2,>=0.2.1 in /Users/tyronemariano/Library/Python/3.9/lib/python/site-packages (from tensorflow) (0.6.0)\n",
      "Requirement already satisfied: google-pasta>=0.1.1 in /Users/tyronemariano/Library/Python/3.9/lib/python/site-packages (from tensorflow) (0.2.0)\n",
      "Requirement already satisfied: libclang>=13.0.0 in /Users/tyronemariano/Library/Python/3.9/lib/python/site-packages (from tensorflow) (18.1.1)\n",
      "Requirement already satisfied: opt-einsum>=2.3.2 in /Users/tyronemariano/Library/Python/3.9/lib/python/site-packages (from tensorflow) (3.3.0)\n",
      "Requirement already satisfied: packaging in /Users/tyronemariano/Library/Python/3.9/lib/python/site-packages (from tensorflow) (24.1)\n",
      "Requirement already satisfied: protobuf!=4.21.0,!=4.21.1,!=4.21.2,!=4.21.3,!=4.21.4,!=4.21.5,<6.0.0dev,>=3.20.3 in /Users/tyronemariano/Library/Python/3.9/lib/python/site-packages (from tensorflow) (4.25.4)\n",
      "Requirement already satisfied: requests<3,>=2.21.0 in /Users/tyronemariano/Library/Python/3.9/lib/python/site-packages (from tensorflow) (2.32.3)\n",
      "Requirement already satisfied: setuptools in /Users/tyronemariano/Library/Python/3.9/lib/python/site-packages (from tensorflow) (75.6.0)\n",
      "Requirement already satisfied: six>=1.12.0 in /Library/Developer/CommandLineTools/Library/Frameworks/Python3.framework/Versions/3.9/lib/python3.9/site-packages (from tensorflow) (1.15.0)\n",
      "Requirement already satisfied: termcolor>=1.1.0 in /Users/tyronemariano/Library/Python/3.9/lib/python/site-packages (from tensorflow) (2.4.0)\n",
      "Requirement already satisfied: typing-extensions>=3.6.6 in /Users/tyronemariano/Library/Python/3.9/lib/python/site-packages (from tensorflow) (4.12.2)\n",
      "Requirement already satisfied: wrapt>=1.11.0 in /Users/tyronemariano/Library/Python/3.9/lib/python/site-packages (from tensorflow) (1.16.0)\n",
      "Requirement already satisfied: grpcio<2.0,>=1.24.3 in /Users/tyronemariano/Library/Python/3.9/lib/python/site-packages (from tensorflow) (1.66.1)\n",
      "Requirement already satisfied: tensorboard<2.19,>=2.18 in /Users/tyronemariano/Library/Python/3.9/lib/python/site-packages (from tensorflow) (2.18.0)\n",
      "Requirement already satisfied: keras>=3.5.0 in /Users/tyronemariano/Library/Python/3.9/lib/python/site-packages (from tensorflow) (3.5.0)\n",
      "Requirement already satisfied: numpy<2.1.0,>=1.26.0 in /Users/tyronemariano/Library/Python/3.9/lib/python/site-packages (from tensorflow) (1.26.4)\n",
      "Requirement already satisfied: h5py>=3.11.0 in /Users/tyronemariano/Library/Python/3.9/lib/python/site-packages (from tensorflow) (3.11.0)\n",
      "Requirement already satisfied: ml-dtypes<0.5.0,>=0.4.0 in /Users/tyronemariano/Library/Python/3.9/lib/python/site-packages (from tensorflow) (0.4.0)\n",
      "Requirement already satisfied: tensorflow-io-gcs-filesystem>=0.23.1 in /Users/tyronemariano/Library/Python/3.9/lib/python/site-packages (from tensorflow) (0.37.1)\n",
      "Requirement already satisfied: wheel<1.0,>=0.23.0 in /Library/Developer/CommandLineTools/Library/Frameworks/Python3.framework/Versions/3.9/lib/python3.9/site-packages (from astunparse>=1.6.0->tensorflow) (0.37.0)\n",
      "Requirement already satisfied: rich in /Users/tyronemariano/Library/Python/3.9/lib/python/site-packages (from keras>=3.5.0->tensorflow) (13.8.0)\n",
      "Requirement already satisfied: namex in /Users/tyronemariano/Library/Python/3.9/lib/python/site-packages (from keras>=3.5.0->tensorflow) (0.0.8)\n",
      "Requirement already satisfied: optree in /Users/tyronemariano/Library/Python/3.9/lib/python/site-packages (from keras>=3.5.0->tensorflow) (0.12.1)\n",
      "Requirement already satisfied: charset-normalizer<4,>=2 in /Users/tyronemariano/Library/Python/3.9/lib/python/site-packages (from requests<3,>=2.21.0->tensorflow) (3.3.2)\n",
      "Requirement already satisfied: idna<4,>=2.5 in /Users/tyronemariano/Library/Python/3.9/lib/python/site-packages (from requests<3,>=2.21.0->tensorflow) (3.8)\n",
      "Requirement already satisfied: urllib3<3,>=1.21.1 in /Users/tyronemariano/Library/Python/3.9/lib/python/site-packages (from requests<3,>=2.21.0->tensorflow) (2.2.2)\n",
      "Requirement already satisfied: certifi>=2017.4.17 in /Users/tyronemariano/Library/Python/3.9/lib/python/site-packages (from requests<3,>=2.21.0->tensorflow) (2024.8.30)\n",
      "Requirement already satisfied: markdown>=2.6.8 in /Users/tyronemariano/Library/Python/3.9/lib/python/site-packages (from tensorboard<2.19,>=2.18->tensorflow) (3.7)\n",
      "Requirement already satisfied: tensorboard-data-server<0.8.0,>=0.7.0 in /Users/tyronemariano/Library/Python/3.9/lib/python/site-packages (from tensorboard<2.19,>=2.18->tensorflow) (0.7.2)\n",
      "Requirement already satisfied: werkzeug>=1.0.1 in /Users/tyronemariano/Library/Python/3.9/lib/python/site-packages (from tensorboard<2.19,>=2.18->tensorflow) (3.1.3)\n",
      "Requirement already satisfied: importlib-metadata>=4.4 in /Users/tyronemariano/Library/Python/3.9/lib/python/site-packages (from markdown>=2.6.8->tensorboard<2.19,>=2.18->tensorflow) (8.4.0)\n",
      "Requirement already satisfied: MarkupSafe>=2.1.1 in /Users/tyronemariano/Library/Python/3.9/lib/python/site-packages (from werkzeug>=1.0.1->tensorboard<2.19,>=2.18->tensorflow) (2.1.5)\n",
      "Requirement already satisfied: markdown-it-py>=2.2.0 in /Users/tyronemariano/Library/Python/3.9/lib/python/site-packages (from rich->keras>=3.5.0->tensorflow) (3.0.0)\n",
      "Requirement already satisfied: pygments<3.0.0,>=2.13.0 in /Users/tyronemariano/Library/Python/3.9/lib/python/site-packages (from rich->keras>=3.5.0->tensorflow) (2.18.0)\n",
      "Requirement already satisfied: zipp>=0.5 in /Users/tyronemariano/Library/Python/3.9/lib/python/site-packages (from importlib-metadata>=4.4->markdown>=2.6.8->tensorboard<2.19,>=2.18->tensorflow) (3.20.0)\n",
      "Requirement already satisfied: mdurl~=0.1 in /Users/tyronemariano/Library/Python/3.9/lib/python/site-packages (from markdown-it-py>=2.2.0->rich->keras>=3.5.0->tensorflow) (0.1.2)\n",
      "\n",
      "\u001b[1m[\u001b[0m\u001b[34;49mnotice\u001b[0m\u001b[1;39;49m]\u001b[0m\u001b[39;49m A new release of pip is available: \u001b[0m\u001b[31;49m24.2\u001b[0m\u001b[39;49m -> \u001b[0m\u001b[32;49m25.0.1\u001b[0m\n",
      "\u001b[1m[\u001b[0m\u001b[34;49mnotice\u001b[0m\u001b[1;39;49m]\u001b[0m\u001b[39;49m To update, run: \u001b[0m\u001b[32;49m/Library/Developer/CommandLineTools/usr/bin/python3 -m pip install --upgrade pip\u001b[0m\n"
     ]
    }
   ],
   "source": [
    "!pip install --upgrade tensorflow"
   ]
  },
  {
   "cell_type": "code",
   "execution_count": 1,
   "metadata": {
    "execution": {
     "iopub.execute_input": "2024-08-16T06:55:40.182715Z",
     "iopub.status.busy": "2024-08-16T06:55:40.182439Z",
     "iopub.status.idle": "2024-08-16T06:55:43.448783Z",
     "shell.execute_reply": "2024-08-16T06:55:43.448066Z"
    },
    "id": "YfIk2es3hJEd"
   },
   "outputs": [
    {
     "name": "stderr",
     "output_type": "stream",
     "text": [
      "/Users/tyronemariano/Library/Python/3.9/lib/python/site-packages/urllib3/__init__.py:35: NotOpenSSLWarning: urllib3 v2 only supports OpenSSL 1.1.1+, currently the 'ssl' module is compiled with 'LibreSSL 2.8.3'. See: https://github.com/urllib3/urllib3/issues/3020\n",
      "  warnings.warn(\n"
     ]
    }
   ],
   "source": [
    "from IPython import display\n",
    "\n",
    "import glob\n",
    "import imageio\n",
    "import matplotlib.pyplot as plt\n",
    "import numpy as np\n",
    "import PIL\n",
    "import tensorflow as tf\n",
    "import tensorflow_probability as tfp\n",
    "import time"
   ]
  },
  {
   "cell_type": "code",
   "execution_count": 5,
   "metadata": {},
   "outputs": [
    {
     "name": "stdout",
     "output_type": "stream",
     "text": [
      "Defaulting to user installation because normal site-packages is not writeable\n",
      "Requirement already satisfied: tf-keras in /Users/tyronemariano/Library/Python/3.9/lib/python/site-packages (2.18.0)\n",
      "Requirement already satisfied: tensorflow<2.19,>=2.18 in /Users/tyronemariano/Library/Python/3.9/lib/python/site-packages (from tf-keras) (2.18.0)\n",
      "Requirement already satisfied: absl-py>=1.0.0 in /Users/tyronemariano/Library/Python/3.9/lib/python/site-packages (from tensorflow<2.19,>=2.18->tf-keras) (2.1.0)\n",
      "Requirement already satisfied: astunparse>=1.6.0 in /Users/tyronemariano/Library/Python/3.9/lib/python/site-packages (from tensorflow<2.19,>=2.18->tf-keras) (1.6.3)\n",
      "Requirement already satisfied: flatbuffers>=24.3.25 in /Users/tyronemariano/Library/Python/3.9/lib/python/site-packages (from tensorflow<2.19,>=2.18->tf-keras) (24.3.25)\n",
      "Requirement already satisfied: gast!=0.5.0,!=0.5.1,!=0.5.2,>=0.2.1 in /Users/tyronemariano/Library/Python/3.9/lib/python/site-packages (from tensorflow<2.19,>=2.18->tf-keras) (0.6.0)\n",
      "Requirement already satisfied: google-pasta>=0.1.1 in /Users/tyronemariano/Library/Python/3.9/lib/python/site-packages (from tensorflow<2.19,>=2.18->tf-keras) (0.2.0)\n",
      "Requirement already satisfied: libclang>=13.0.0 in /Users/tyronemariano/Library/Python/3.9/lib/python/site-packages (from tensorflow<2.19,>=2.18->tf-keras) (18.1.1)\n",
      "Requirement already satisfied: opt-einsum>=2.3.2 in /Users/tyronemariano/Library/Python/3.9/lib/python/site-packages (from tensorflow<2.19,>=2.18->tf-keras) (3.3.0)\n",
      "Requirement already satisfied: packaging in /Users/tyronemariano/Library/Python/3.9/lib/python/site-packages (from tensorflow<2.19,>=2.18->tf-keras) (24.1)\n",
      "Requirement already satisfied: protobuf!=4.21.0,!=4.21.1,!=4.21.2,!=4.21.3,!=4.21.4,!=4.21.5,<6.0.0dev,>=3.20.3 in /Users/tyronemariano/Library/Python/3.9/lib/python/site-packages (from tensorflow<2.19,>=2.18->tf-keras) (4.25.4)\n",
      "Requirement already satisfied: requests<3,>=2.21.0 in /Users/tyronemariano/Library/Python/3.9/lib/python/site-packages (from tensorflow<2.19,>=2.18->tf-keras) (2.32.3)\n",
      "Requirement already satisfied: setuptools in /Users/tyronemariano/Library/Python/3.9/lib/python/site-packages (from tensorflow<2.19,>=2.18->tf-keras) (75.6.0)\n",
      "Requirement already satisfied: six>=1.12.0 in /Library/Developer/CommandLineTools/Library/Frameworks/Python3.framework/Versions/3.9/lib/python3.9/site-packages (from tensorflow<2.19,>=2.18->tf-keras) (1.15.0)\n",
      "Requirement already satisfied: termcolor>=1.1.0 in /Users/tyronemariano/Library/Python/3.9/lib/python/site-packages (from tensorflow<2.19,>=2.18->tf-keras) (2.4.0)\n",
      "Requirement already satisfied: typing-extensions>=3.6.6 in /Users/tyronemariano/Library/Python/3.9/lib/python/site-packages (from tensorflow<2.19,>=2.18->tf-keras) (4.12.2)\n",
      "Requirement already satisfied: wrapt>=1.11.0 in /Users/tyronemariano/Library/Python/3.9/lib/python/site-packages (from tensorflow<2.19,>=2.18->tf-keras) (1.16.0)\n",
      "Requirement already satisfied: grpcio<2.0,>=1.24.3 in /Users/tyronemariano/Library/Python/3.9/lib/python/site-packages (from tensorflow<2.19,>=2.18->tf-keras) (1.66.1)\n",
      "Requirement already satisfied: tensorboard<2.19,>=2.18 in /Users/tyronemariano/Library/Python/3.9/lib/python/site-packages (from tensorflow<2.19,>=2.18->tf-keras) (2.18.0)\n",
      "Requirement already satisfied: keras>=3.5.0 in /Users/tyronemariano/Library/Python/3.9/lib/python/site-packages (from tensorflow<2.19,>=2.18->tf-keras) (3.5.0)\n",
      "Requirement already satisfied: numpy<2.1.0,>=1.26.0 in /Users/tyronemariano/Library/Python/3.9/lib/python/site-packages (from tensorflow<2.19,>=2.18->tf-keras) (1.26.4)\n",
      "Requirement already satisfied: h5py>=3.11.0 in /Users/tyronemariano/Library/Python/3.9/lib/python/site-packages (from tensorflow<2.19,>=2.18->tf-keras) (3.11.0)\n",
      "Requirement already satisfied: ml-dtypes<0.5.0,>=0.4.0 in /Users/tyronemariano/Library/Python/3.9/lib/python/site-packages (from tensorflow<2.19,>=2.18->tf-keras) (0.4.0)\n",
      "Requirement already satisfied: tensorflow-io-gcs-filesystem>=0.23.1 in /Users/tyronemariano/Library/Python/3.9/lib/python/site-packages (from tensorflow<2.19,>=2.18->tf-keras) (0.37.1)\n",
      "Requirement already satisfied: wheel<1.0,>=0.23.0 in /Library/Developer/CommandLineTools/Library/Frameworks/Python3.framework/Versions/3.9/lib/python3.9/site-packages (from astunparse>=1.6.0->tensorflow<2.19,>=2.18->tf-keras) (0.37.0)\n",
      "Requirement already satisfied: rich in /Users/tyronemariano/Library/Python/3.9/lib/python/site-packages (from keras>=3.5.0->tensorflow<2.19,>=2.18->tf-keras) (13.8.0)\n",
      "Requirement already satisfied: namex in /Users/tyronemariano/Library/Python/3.9/lib/python/site-packages (from keras>=3.5.0->tensorflow<2.19,>=2.18->tf-keras) (0.0.8)\n",
      "Requirement already satisfied: optree in /Users/tyronemariano/Library/Python/3.9/lib/python/site-packages (from keras>=3.5.0->tensorflow<2.19,>=2.18->tf-keras) (0.12.1)\n",
      "Requirement already satisfied: charset-normalizer<4,>=2 in /Users/tyronemariano/Library/Python/3.9/lib/python/site-packages (from requests<3,>=2.21.0->tensorflow<2.19,>=2.18->tf-keras) (3.3.2)\n",
      "Requirement already satisfied: idna<4,>=2.5 in /Users/tyronemariano/Library/Python/3.9/lib/python/site-packages (from requests<3,>=2.21.0->tensorflow<2.19,>=2.18->tf-keras) (3.8)\n",
      "Requirement already satisfied: urllib3<3,>=1.21.1 in /Users/tyronemariano/Library/Python/3.9/lib/python/site-packages (from requests<3,>=2.21.0->tensorflow<2.19,>=2.18->tf-keras) (2.2.2)\n",
      "Requirement already satisfied: certifi>=2017.4.17 in /Users/tyronemariano/Library/Python/3.9/lib/python/site-packages (from requests<3,>=2.21.0->tensorflow<2.19,>=2.18->tf-keras) (2024.8.30)\n",
      "Requirement already satisfied: markdown>=2.6.8 in /Users/tyronemariano/Library/Python/3.9/lib/python/site-packages (from tensorboard<2.19,>=2.18->tensorflow<2.19,>=2.18->tf-keras) (3.7)\n",
      "Requirement already satisfied: tensorboard-data-server<0.8.0,>=0.7.0 in /Users/tyronemariano/Library/Python/3.9/lib/python/site-packages (from tensorboard<2.19,>=2.18->tensorflow<2.19,>=2.18->tf-keras) (0.7.2)\n",
      "Requirement already satisfied: werkzeug>=1.0.1 in /Users/tyronemariano/Library/Python/3.9/lib/python/site-packages (from tensorboard<2.19,>=2.18->tensorflow<2.19,>=2.18->tf-keras) (3.1.3)\n",
      "Requirement already satisfied: importlib-metadata>=4.4 in /Users/tyronemariano/Library/Python/3.9/lib/python/site-packages (from markdown>=2.6.8->tensorboard<2.19,>=2.18->tensorflow<2.19,>=2.18->tf-keras) (8.4.0)\n",
      "Requirement already satisfied: MarkupSafe>=2.1.1 in /Users/tyronemariano/Library/Python/3.9/lib/python/site-packages (from werkzeug>=1.0.1->tensorboard<2.19,>=2.18->tensorflow<2.19,>=2.18->tf-keras) (2.1.5)\n",
      "Requirement already satisfied: markdown-it-py>=2.2.0 in /Users/tyronemariano/Library/Python/3.9/lib/python/site-packages (from rich->keras>=3.5.0->tensorflow<2.19,>=2.18->tf-keras) (3.0.0)\n",
      "Requirement already satisfied: pygments<3.0.0,>=2.13.0 in /Users/tyronemariano/Library/Python/3.9/lib/python/site-packages (from rich->keras>=3.5.0->tensorflow<2.19,>=2.18->tf-keras) (2.18.0)\n",
      "Requirement already satisfied: zipp>=0.5 in /Users/tyronemariano/Library/Python/3.9/lib/python/site-packages (from importlib-metadata>=4.4->markdown>=2.6.8->tensorboard<2.19,>=2.18->tensorflow<2.19,>=2.18->tf-keras) (3.20.0)\n",
      "Requirement already satisfied: mdurl~=0.1 in /Users/tyronemariano/Library/Python/3.9/lib/python/site-packages (from markdown-it-py>=2.2.0->rich->keras>=3.5.0->tensorflow<2.19,>=2.18->tf-keras) (0.1.2)\n",
      "\n",
      "\u001b[1m[\u001b[0m\u001b[34;49mnotice\u001b[0m\u001b[1;39;49m]\u001b[0m\u001b[39;49m A new release of pip is available: \u001b[0m\u001b[31;49m24.2\u001b[0m\u001b[39;49m -> \u001b[0m\u001b[32;49m25.0.1\u001b[0m\n",
      "\u001b[1m[\u001b[0m\u001b[34;49mnotice\u001b[0m\u001b[1;39;49m]\u001b[0m\u001b[39;49m To update, run: \u001b[0m\u001b[32;49m/Library/Developer/CommandLineTools/usr/bin/python3 -m pip install --upgrade pip\u001b[0m\n"
     ]
    }
   ],
   "source": [
    "!pip install tf-keras"
   ]
  },
  {
   "cell_type": "markdown",
   "metadata": {
    "id": "iYn4MdZnKCey"
   },
   "source": [
    "## Load the MNIST dataset\n",
    "Each MNIST image is originally a vector of 784 integers, each of which is between 0-255 and represents the intensity of a pixel. Model each pixel with a Bernoulli distribution in our model, and statically binarize the dataset."
   ]
  },
  {
   "cell_type": "code",
   "execution_count": 10,
   "metadata": {
    "execution": {
     "iopub.execute_input": "2024-08-16T06:55:43.453592Z",
     "iopub.status.busy": "2024-08-16T06:55:43.452781Z",
     "iopub.status.idle": "2024-08-16T06:55:43.720879Z",
     "shell.execute_reply": "2024-08-16T06:55:43.720111Z"
    },
    "id": "a4fYMGxGhrna"
   },
   "outputs": [],
   "source": [
    "#(train_images, _), (test_images, _) = tf.keras.datasets.mnist.load_data()\n",
    "#(train_images, _), (test_images, _) = tf.keras.datasets.fashion_mnist.load_data()\n",
    "(train_images, _), (test_images, _) = tf.keras.datasets.cifar10.load_data()"
   ]
  },
  {
   "cell_type": "code",
   "execution_count": 11,
   "metadata": {},
   "outputs": [
    {
     "data": {
      "text/plain": [
       "(10000, 32, 32, 3)"
      ]
     },
     "execution_count": 11,
     "metadata": {},
     "output_type": "execute_result"
    }
   ],
   "source": [
    "test_images.shape"
   ]
  },
  {
   "cell_type": "code",
   "execution_count": 12,
   "metadata": {},
   "outputs": [
    {
     "data": {
      "image/png": "[encoded data removed]",
      "text/plain": [
       "<Figure size 640x480 with 1 Axes>"
      ]
     },
     "metadata": {},
     "output_type": "display_data"
    }
   ],
   "source": [
    "plt.imshow(train_images[0])\n",
    "plt.show()"
   ]
  },
  {
   "cell_type": "code",
   "execution_count": null,
   "metadata": {
    "execution": {
     "iopub.execute_input": "2024-08-16T06:55:43.725079Z",
     "iopub.status.busy": "2024-08-16T06:55:43.724576Z",
     "iopub.status.idle": "2024-08-16T06:55:44.263391Z",
     "shell.execute_reply": "2024-08-16T06:55:44.262616Z"
    },
    "id": "NFC2ghIdiZYE"
   },
   "outputs": [
    {
     "ename": "error",
     "evalue": "OpenCV(4.11.0) /Users/xperience/GHA-Actions-OpenCV/_work/opencv-python/opencv-python/opencv/modules/imgproc/src/resize.cpp:3845: error: (-215:Assertion failed) !dsize.empty() in function 'resize'\n",
     "output_type": "error",
     "traceback": [
      "\u001b[0;31m---------------------------------------------------------------------------\u001b[0m",
      "\u001b[0;31merror\u001b[0m                                     Traceback (most recent call last)",
      "Cell \u001b[0;32mIn[6], line 9\u001b[0m\n\u001b[1;32m      5\u001b[0m   \u001b[38;5;66;03m#images = images.reshape((images.shape[0], 28, 28, 3)) / 255.\u001b[39;00m\n\u001b[1;32m      6\u001b[0m   \u001b[38;5;66;03m#return np.where(images > .5, 1.0, 0.0).astype('float32')\u001b[39;00m\n\u001b[1;32m      7\u001b[0m   \u001b[38;5;28;01mreturn\u001b[39;00m resized_image\u001b[38;5;241m.\u001b[39mastype(\u001b[38;5;124m'\u001b[39m\u001b[38;5;124mfloat32\u001b[39m\u001b[38;5;124m'\u001b[39m)\n\u001b[0;32m----> 9\u001b[0m train_images \u001b[38;5;241m=\u001b[39m \u001b[43mpreprocess_images\u001b[49m\u001b[43m(\u001b[49m\u001b[43mtrain_images\u001b[49m\u001b[43m)\u001b[49m\n\u001b[1;32m     10\u001b[0m test_images \u001b[38;5;241m=\u001b[39m preprocess_images(test_images)\n",
      "Cell \u001b[0;32mIn[6], line 4\u001b[0m, in \u001b[0;36mpreprocess_images\u001b[0;34m(images)\u001b[0m\n\u001b[1;32m      3\u001b[0m \u001b[38;5;28;01mdef\u001b[39;00m \u001b[38;5;21mpreprocess_images\u001b[39m(images):\n\u001b[0;32m----> 4\u001b[0m   resized_image \u001b[38;5;241m=\u001b[39m \u001b[43mcv2\u001b[49m\u001b[38;5;241;43m.\u001b[39;49m\u001b[43mresize\u001b[49m\u001b[43m(\u001b[49m\u001b[43mimages\u001b[49m\u001b[43m,\u001b[49m\u001b[43m \u001b[49m\u001b[43m(\u001b[49m\u001b[38;5;241;43m28\u001b[39;49m\u001b[43m,\u001b[49m\u001b[43m \u001b[49m\u001b[38;5;241;43m28\u001b[39;49m\u001b[43m)\u001b[49m\u001b[43m)\u001b[49m\n\u001b[1;32m      5\u001b[0m   \u001b[38;5;66;03m#images = images.reshape((images.shape[0], 28, 28, 3)) / 255.\u001b[39;00m\n\u001b[1;32m      6\u001b[0m   \u001b[38;5;66;03m#return np.where(images > .5, 1.0, 0.0).astype('float32')\u001b[39;00m\n\u001b[1;32m      7\u001b[0m   \u001b[38;5;28;01mreturn\u001b[39;00m resized_image\u001b[38;5;241m.\u001b[39mastype(\u001b[38;5;124m'\u001b[39m\u001b[38;5;124mfloat32\u001b[39m\u001b[38;5;124m'\u001b[39m)\n",
      "\u001b[0;31merror\u001b[0m: OpenCV(4.11.0) /Users/xperience/GHA-Actions-OpenCV/_work/opencv-python/opencv-python/opencv/modules/imgproc/src/resize.cpp:3845: error: (-215:Assertion failed) !dsize.empty() in function 'resize'\n"
     ]
    }
   ],
   "source": [
    "# import cv2\n",
    "\n",
    "# def preprocess_images(images):\n",
    "#   resized_image = cv2.resize(images, (28, 28))\n",
    "#   #images = images.reshape((images.shape[0], 28, 28, 3)) / 255.\n",
    "#   #return np.where(images > .5, 1.0, 0.0).astype('float32')\n",
    "#   return resized_image.astype('float32')\n",
    "\n",
    "# train_images = preprocess_images(train_images)\n",
    "# test_images = preprocess_images(test_images)"
   ]
  },
  {
   "cell_type": "code",
   "execution_count": 13,
   "metadata": {},
   "outputs": [],
   "source": [
    "train_images = np.array([cv2.resize(img, (28, 28)) for img in train_images])\n",
    "test_images = np.array([cv2.resize(img, (28, 28)) for img in test_images])"
   ]
  },
  {
   "cell_type": "code",
   "execution_count": 14,
   "metadata": {},
   "outputs": [
    {
     "data": {
      "image/png": "[encoded data removed]",
      "text/plain": [
       "<Figure size 640x480 with 1 Axes>"
      ]
     },
     "metadata": {},
     "output_type": "display_data"
    }
   ],
   "source": [
    "plt.imshow(train_images[0])\n",
    "plt.show()"
   ]
  },
  {
   "cell_type": "code",
   "execution_count": 15,
   "metadata": {
    "execution": {
     "iopub.execute_input": "2024-08-16T06:55:44.267402Z",
     "iopub.status.busy": "2024-08-16T06:55:44.267143Z",
     "iopub.status.idle": "2024-08-16T06:55:44.270390Z",
     "shell.execute_reply": "2024-08-16T06:55:44.269792Z"
    },
    "id": "S4PIDhoDLbsZ"
   },
   "outputs": [],
   "source": [
    "#train_size = 60000\n",
    "train_size = 50000\n",
    "batch_size = 32\n",
    "test_size = 10000"
   ]
  },
  {
   "cell_type": "markdown",
   "metadata": {
    "id": "PIGN6ouoQxt3"
   },
   "source": [
    "## Use *tf.data* to batch and shuffle the data"
   ]
  },
  {
   "cell_type": "code",
   "execution_count": 16,
   "metadata": {
    "execution": {
     "iopub.execute_input": "2024-08-16T06:55:44.274069Z",
     "iopub.status.busy": "2024-08-16T06:55:44.273484Z",
     "iopub.status.idle": "2024-08-16T06:55:47.022796Z",
     "shell.execute_reply": "2024-08-16T06:55:47.022083Z"
    },
    "id": "-yKCCQOoJ7cn"
   },
   "outputs": [],
   "source": [
    "train_dataset = (tf.data.Dataset.from_tensor_slices(train_images)\n",
    "                 .shuffle(train_size).batch(batch_size))\n",
    "test_dataset = (tf.data.Dataset.from_tensor_slices(test_images)\n",
    "                .shuffle(test_size).batch(batch_size))"
   ]
  },
  {
   "cell_type": "markdown",
   "metadata": {
    "id": "THY-sZMiQ4UV"
   },
   "source": [
    "## Define the encoder and decoder networks with *tf.keras.Sequential*\n",
    "\n",
    "In this VAE example, use two small ConvNets for the encoder and decoder networks. In the literature, these networks are also referred to as inference/recognition and generative models respectively. Use `tf.keras.Sequential` to simplify implementation. Let $x$ and $z$ denote the observation and latent variable respectively in the following descriptions.\n",
    "\n",
    "### Encoder network\n",
    "This defines the approximate posterior distribution $q(z|x)$, which takes as input an observation and outputs a set of parameters for specifying the conditional distribution of the latent representation $z$. \n",
    "In this example, simply model the distribution as a diagonal Gaussian, and the network outputs the mean and log-variance parameters of a factorized Gaussian. \n",
    "Output log-variance instead of the variance directly for numerical stability.\n",
    "\n",
    "### Decoder network \n",
    "This defines the conditional distribution of the observation $p(x|z)$, which takes a latent sample $z$ as input and outputs the parameters for a conditional distribution of the observation.\n",
    "Model the latent distribution prior $p(z)$ as a unit Gaussian.\n",
    "\n",
    "### Reparameterization trick\n",
    "To generate a sample $z$ for the decoder during training, you can sample from the latent distribution defined by the parameters outputted by the encoder, given an input observation $x$.\n",
    "However, this sampling operation creates a bottleneck because backpropagation cannot flow through a random node.\n",
    "\n",
    "To address this, use a reparameterization trick.\n",
    "In our example, you approximate $z$ using the decoder parameters and another parameter $\\epsilon$ as follows:\n",
    "\n",
    "$$z = \\mu + \\sigma \\odot \\epsilon$$\n",
    "\n",
    "where $\\mu$ and $\\sigma$ represent the mean and standard deviation of a Gaussian distribution respectively. They can be derived from the decoder output. The $\\epsilon$ can be thought of as a random noise used to maintain stochasticity of $z$. Generate $\\epsilon$ from a standard normal distribution.\n",
    "\n",
    "The latent variable $z$ is now generated by a function of $\\mu$, $\\sigma$ and $\\epsilon$, which would enable the model to backpropagate gradients in the encoder through $\\mu$ and $\\sigma$ respectively, while maintaining stochasticity through $\\epsilon$.\n",
    "\n",
    "### Network architecture\n",
    "For the encoder network, use two convolutional layers followed by a fully-connected layer. In the decoder network, mirror this architecture by using a fully-connected layer followed by three convolution transpose layers (a.k.a. deconvolutional layers in some contexts). Note, it's common practice to avoid using batch normalization when training VAEs, since the additional stochasticity due to using mini-batches may aggravate instability on top of the stochasticity from sampling.\n"
   ]
  },
  {
   "cell_type": "code",
   "execution_count": 32,
   "metadata": {
    "execution": {
     "iopub.execute_input": "2024-08-16T06:55:47.026496Z",
     "iopub.status.busy": "2024-08-16T06:55:47.026243Z",
     "iopub.status.idle": "2024-08-16T06:55:47.036295Z",
     "shell.execute_reply": "2024-08-16T06:55:47.035689Z"
    },
    "id": "VGLbvBEmjK0a"
   },
   "outputs": [],
   "source": [
    "class CVAE(tf.keras.Model):\n",
    "  \"\"\"Convolutional variational autoencoder.\"\"\"\n",
    "\n",
    "  def __init__(self, latent_dim):\n",
    "    super(CVAE, self).__init__()\n",
    "    self.latent_dim = latent_dim\n",
    "    self.encoder = tf.keras.Sequential(\n",
    "        [\n",
    "            tf.keras.layers.InputLayer(input_shape=(28, 28, 3)),\n",
    "            tf.keras.layers.Conv2D(\n",
    "                filters=32, kernel_size=3, strides=(2, 2), activation='relu'),\n",
    "            tf.keras.layers.Conv2D(\n",
    "                filters=64, kernel_size=3, strides=(2, 2), activation='relu'),\n",
    "            tf.keras.layers.Flatten(),\n",
    "            # No activation\n",
    "            tf.keras.layers.Dense(latent_dim + latent_dim),\n",
    "        ]\n",
    "    )\n",
    "\n",
    "    self.decoder = tf.keras.Sequential(\n",
    "        [\n",
    "            tf.keras.layers.InputLayer(input_shape=(latent_dim,)),\n",
    "            tf.keras.layers.Dense(units=7*7*32, activation=tf.nn.relu),\n",
    "            tf.keras.layers.Reshape(target_shape=(7, 7, 32)),\n",
    "            tf.keras.layers.Conv2DTranspose(\n",
    "                filters=64, kernel_size=3, strides=2, padding='same',\n",
    "                activation='relu'),\n",
    "            tf.keras.layers.Conv2DTranspose(\n",
    "                filters=32, kernel_size=3, strides=2, padding='same',\n",
    "                activation='relu'),\n",
    "            # No activation\n",
    "            tf.keras.layers.Conv2DTranspose(\n",
    "                filters=3, kernel_size=3, strides=1, padding='same'),\n",
    "        ]\n",
    "    )\n",
    "\n",
    "  @tf.function\n",
    "  def sample(self, eps=None):\n",
    "    if eps is None:\n",
    "      eps = tf.random.normal(shape=(100, self.latent_dim))\n",
    "    return self.decode(eps, apply_sigmoid=True)\n",
    "\n",
    "  def encode(self, x):\n",
    "    mean, logvar = tf.split(self.encoder(x), num_or_size_splits=2, axis=1)\n",
    "    return mean, logvar\n",
    "\n",
    "  def reparameterize(self, mean, logvar):\n",
    "    eps = tf.random.normal(shape=mean.shape)\n",
    "    return eps * tf.exp(logvar * .5) + mean\n",
    "\n",
    "  def decode(self, z, apply_sigmoid=False):\n",
    "    logits = self.decoder(z)\n",
    "    if apply_sigmoid:\n",
    "      probs = tf.sigmoid(logits)\n",
    "      return probs\n",
    "    return logits"
   ]
  },
  {
   "cell_type": "markdown",
   "metadata": {
    "id": "0FMYgY_mPfTi"
   },
   "source": [
    "## Define the loss function and the optimizer\n",
    "\n",
    "VAEs train by maximizing the evidence lower bound (ELBO) on the marginal log-likelihood:\n",
    "\n",
    "$$\\log p(x) \\ge \\text{ELBO} = \\mathbb{E}_{q(z|x)}\\left[\\log \\frac{p(x, z)}{q(z|x)}\\right].$$\n",
    "\n",
    "In practice, optimize the single sample Monte Carlo estimate of this expectation:\n",
    "\n",
    "$$\\log p(x| z) + \\log p(z) - \\log q(z|x),$$\n",
    "where $z$ is sampled from $q(z|x)$.\n",
    "\n",
    "Note: You could also analytically compute the KL term, but here you incorporate all three terms in the Monte Carlo estimator for simplicity."
   ]
  },
  {
   "cell_type": "code",
   "execution_count": 33,
   "metadata": {
    "execution": {
     "iopub.execute_input": "2024-08-16T06:55:47.039469Z",
     "iopub.status.busy": "2024-08-16T06:55:47.039242Z",
     "iopub.status.idle": "2024-08-16T06:55:47.050501Z",
     "shell.execute_reply": "2024-08-16T06:55:47.049900Z"
    },
    "id": "iWCn_PVdEJZ7"
   },
   "outputs": [],
   "source": [
    "optimizer = tf.keras.optimizers.Adam(1e-4)\n",
    "\n",
    "\n",
    "def log_normal_pdf(sample, mean, logvar, raxis=1):\n",
    "  log2pi = tf.math.log(2. * np.pi)\n",
    "  return tf.reduce_sum(\n",
    "      -.5 * ((sample - mean) ** 2. * tf.exp(-logvar) + logvar + log2pi),\n",
    "      axis=raxis)\n",
    "\n",
    "\n",
    "def compute_loss(model, x):\n",
    "  mean, logvar = model.encode(x)\n",
    "  z = model.reparameterize(mean, logvar)\n",
    "  x_logit = model.decode(z)\n",
    "  x = tf.cast(x, tf.float32)\n",
    "  cross_ent = tf.nn.sigmoid_cross_entropy_with_logits(logits=x_logit, labels=x)\n",
    "  logpx_z = -tf.reduce_sum(cross_ent, axis=[1, 2, 3])\n",
    "  logpz = log_normal_pdf(z, 0., 0.)\n",
    "  logqz_x = log_normal_pdf(z, mean, logvar)\n",
    "  return -tf.reduce_mean(logpx_z + logpz - logqz_x)\n",
    "\n",
    "\n",
    "@tf.function\n",
    "def train_step(model, x, optimizer):\n",
    "  \"\"\"Executes one training step and returns the loss.\n",
    "\n",
    "  This function computes the loss and gradients, and uses the latter to\n",
    "  update the model's parameters.\n",
    "  \"\"\"\n",
    "  with tf.GradientTape() as tape:\n",
    "    loss = compute_loss(model, x)\n",
    "  gradients = tape.gradient(loss, model.trainable_variables)\n",
    "  optimizer.apply_gradients(zip(gradients, model.trainable_variables))"
   ]
  },
  {
   "cell_type": "markdown",
   "metadata": {
    "id": "Rw1fkAczTQYh"
   },
   "source": [
    "## Training\n",
    "\n",
    "* Start by iterating over the dataset\n",
    "* During each iteration, pass the image to the encoder to obtain a set of mean and log-variance parameters of the approximate posterior $q(z|x)$\n",
    "* then apply the *reparameterization trick* to sample from $q(z|x)$\n",
    "* Finally, pass the reparameterized samples to the decoder to obtain the logits of the generative distribution $p(x|z)$\n",
    "* Note: Since you use the dataset loaded by keras with 60k datapoints in the training set and 10k datapoints in the test set, our resulting ELBO on the test set is slightly higher than reported results in the literature which uses dynamic binarization of Larochelle's MNIST.\n",
    "\n",
    "### Generating images\n",
    "\n",
    "* After training, it is time to generate some images\n",
    "* Start by sampling a set of latent vectors from the unit Gaussian prior distribution $p(z)$\n",
    "* The generator will then convert the latent sample $z$ to logits of the observation, giving a distribution $p(x|z)$\n",
    "* Here, plot the probabilities of Bernoulli distributions\n"
   ]
  },
  {
   "cell_type": "code",
   "execution_count": 34,
   "metadata": {
    "execution": {
     "iopub.execute_input": "2024-08-16T06:55:47.053857Z",
     "iopub.status.busy": "2024-08-16T06:55:47.053476Z",
     "iopub.status.idle": "2024-08-16T06:55:47.750381Z",
     "shell.execute_reply": "2024-08-16T06:55:47.749380Z"
    },
    "id": "NS2GWywBbAWo"
   },
   "outputs": [],
   "source": [
    "epochs = 10\n",
    "# set the dimensionality of the latent space to a plane for visualization later\n",
    "latent_dim = 2\n",
    "num_examples_to_generate = 16\n",
    "\n",
    "# keeping the random vector constant for generation (prediction) so\n",
    "# it will be easier to see the improvement.\n",
    "random_vector_for_generation = tf.random.normal(\n",
    "    shape=[num_examples_to_generate, latent_dim])\n",
    "model = CVAE(latent_dim)"
   ]
  },
  {
   "cell_type": "code",
   "execution_count": 35,
   "metadata": {},
   "outputs": [
    {
     "data": {
      "text/html": [
       "<pre style=\"white-space:pre;overflow-x:auto;line-height:normal;font-family:Menlo,'DejaVu Sans Mono',consolas,'Courier New',monospace\"><span style=\"font-weight: bold\">Model: \"cvae_2\"</span>\n",
       "</pre>\n"
      ],
      "text/plain": [
       "\u001b[1mModel: \"cvae_2\"\u001b[0m\n"
      ]
     },
     "metadata": {},
     "output_type": "display_data"
    },
    {
     "data": {
      "text/html": [
       "<pre style=\"white-space:pre;overflow-x:auto;line-height:normal;font-family:Menlo,'DejaVu Sans Mono',consolas,'Courier New',monospace\">┏━━━━━━━━━━━━━━━━━━━━━━━━━━━━━━━━━┳━━━━━━━━━━━━━━━━━━━━━━━━┳━━━━━━━━━━━━━━━┓\n",
       "┃<span style=\"font-weight: bold\"> Layer (type)                    </span>┃<span style=\"font-weight: bold\"> Output Shape           </span>┃<span style=\"font-weight: bold\">       Param # </span>┃\n",
       "┡━━━━━━━━━━━━━━━━━━━━━━━━━━━━━━━━━╇━━━━━━━━━━━━━━━━━━━━━━━━╇━━━━━━━━━━━━━━━┩\n",
       "│ sequential_4 (<span style=\"color: #0087ff; text-decoration-color: #0087ff\">Sequential</span>)       │ (None, 4)              │        <span style=\"color: #00af00; text-decoration-color: #00af00\">28,612</span> │\n",
       "├─────────────────────────────────┼────────────────────────┼───────────────┤\n",
       "│ sequential_5 (<span style=\"color: #0087ff; text-decoration-color: #0087ff\">Sequential</span>)       │ (None, 28, 28, 3)      │        <span style=\"color: #00af00; text-decoration-color: #00af00\">42,531</span> │\n",
       "└─────────────────────────────────┴────────────────────────┴───────────────┘\n",
       "</pre>\n"
      ],
      "text/plain": [
       "┏━━━━━━━━━━━━━━━━━━━━━━━━━━━━━━━━━┳━━━━━━━━━━━━━━━━━━━━━━━━┳━━━━━━━━━━━━━━━┓\n",
       "┃\u001b[1m \u001b[0m\u001b[1mLayer (type)                   \u001b[0m\u001b[1m \u001b[0m┃\u001b[1m \u001b[0m\u001b[1mOutput Shape          \u001b[0m\u001b[1m \u001b[0m┃\u001b[1m \u001b[0m\u001b[1m      Param #\u001b[0m\u001b[1m \u001b[0m┃\n",
       "┡━━━━━━━━━━━━━━━━━━━━━━━━━━━━━━━━━╇━━━━━━━━━━━━━━━━━━━━━━━━╇━━━━━━━━━━━━━━━┩\n",
       "│ sequential_4 (\u001b[38;5;33mSequential\u001b[0m)       │ (None, 4)              │        \u001b[38;5;34m28,612\u001b[0m │\n",
       "├─────────────────────────────────┼────────────────────────┼───────────────┤\n",
       "│ sequential_5 (\u001b[38;5;33mSequential\u001b[0m)       │ (None, 28, 28, 3)      │        \u001b[38;5;34m42,531\u001b[0m │\n",
       "└─────────────────────────────────┴────────────────────────┴───────────────┘\n"
      ]
     },
     "metadata": {},
     "output_type": "display_data"
    },
    {
     "data": {
      "text/html": [
       "<pre style=\"white-space:pre;overflow-x:auto;line-height:normal;font-family:Menlo,'DejaVu Sans Mono',consolas,'Courier New',monospace\"><span style=\"font-weight: bold\"> Total params: </span><span style=\"color: #00af00; text-decoration-color: #00af00\">71,143</span> (277.90 KB)\n",
       "</pre>\n"
      ],
      "text/plain": [
       "\u001b[1m Total params: \u001b[0m\u001b[38;5;34m71,143\u001b[0m (277.90 KB)\n"
      ]
     },
     "metadata": {},
     "output_type": "display_data"
    },
    {
     "data": {
      "text/html": [
       "<pre style=\"white-space:pre;overflow-x:auto;line-height:normal;font-family:Menlo,'DejaVu Sans Mono',consolas,'Courier New',monospace\"><span style=\"font-weight: bold\"> Trainable params: </span><span style=\"color: #00af00; text-decoration-color: #00af00\">71,143</span> (277.90 KB)\n",
       "</pre>\n"
      ],
      "text/plain": [
       "\u001b[1m Trainable params: \u001b[0m\u001b[38;5;34m71,143\u001b[0m (277.90 KB)\n"
      ]
     },
     "metadata": {},
     "output_type": "display_data"
    },
    {
     "data": {
      "text/html": [
       "<pre style=\"white-space:pre;overflow-x:auto;line-height:normal;font-family:Menlo,'DejaVu Sans Mono',consolas,'Courier New',monospace\"><span style=\"font-weight: bold\"> Non-trainable params: </span><span style=\"color: #00af00; text-decoration-color: #00af00\">0</span> (0.00 B)\n",
       "</pre>\n"
      ],
      "text/plain": [
       "\u001b[1m Non-trainable params: \u001b[0m\u001b[38;5;34m0\u001b[0m (0.00 B)\n"
      ]
     },
     "metadata": {},
     "output_type": "display_data"
    }
   ],
   "source": [
    "model.summary()"
   ]
  },
  {
   "cell_type": "code",
   "execution_count": 36,
   "metadata": {
    "execution": {
     "iopub.execute_input": "2024-08-16T06:55:47.755045Z",
     "iopub.status.busy": "2024-08-16T06:55:47.754363Z",
     "iopub.status.idle": "2024-08-16T06:55:47.759958Z",
     "shell.execute_reply": "2024-08-16T06:55:47.759092Z"
    },
    "id": "RmdVsmvhPxyy"
   },
   "outputs": [],
   "source": [
    "def generate_and_save_images(model, epoch, test_sample):\n",
    "  mean, logvar = model.encode(test_sample)\n",
    "  z = model.reparameterize(mean, logvar)\n",
    "  predictions = model.sample(z)\n",
    "  fig = plt.figure(figsize=(4, 4))\n",
    "\n",
    "  for i in range(predictions.shape[0]):\n",
    "    plt.subplot(4, 4, i + 1)\n",
    "    plt.imshow(predictions[i, :, :, 0], cmap='gray')\n",
    "    plt.axis('off')\n",
    "\n",
    "  # tight_layout minimizes the overlap between 2 sub-plots\n",
    "  plt.savefig('image_at_epoch_{:04d}.png'.format(epoch))\n",
    "  plt.show()"
   ]
  },
  {
   "cell_type": "code",
   "execution_count": 37,
   "metadata": {
    "execution": {
     "iopub.execute_input": "2024-08-16T06:55:47.763185Z",
     "iopub.status.busy": "2024-08-16T06:55:47.762933Z",
     "iopub.status.idle": "2024-08-16T06:55:47.814029Z",
     "shell.execute_reply": "2024-08-16T06:55:47.813092Z"
    },
    "id": "swCyrbqQQ-Ri"
   },
   "outputs": [],
   "source": [
    "# Pick a sample of the test set for generating output images\n",
    "assert batch_size >= num_examples_to_generate\n",
    "for test_batch in test_dataset.take(1):\n",
    "  test_sample = test_batch[0:num_examples_to_generate, :, :, :]"
   ]
  },
  {
   "cell_type": "code",
   "execution_count": 38,
   "metadata": {
    "execution": {
     "iopub.execute_input": "2024-08-16T06:55:47.817364Z",
     "iopub.status.busy": "2024-08-16T06:55:47.817105Z",
     "iopub.status.idle": "2024-08-16T06:57:54.511080Z",
     "shell.execute_reply": "2024-08-16T06:57:54.510419Z"
    },
    "id": "2M7LmLtGEMQJ"
   },
   "outputs": [
    {
     "name": "stdout",
     "output_type": "stream",
     "text": [
      "Epoch: 10, Test set ELBO: nan, time elapse for current epoch: 20.053685188293457\n"
     ]
    },
    {
     "data": {
      "image/png": "[encoded data removed]",
      "text/plain": [
       "<Figure size 400x400 with 16 Axes>"
      ]
     },
     "metadata": {},
     "output_type": "display_data"
    }
   ],
   "source": [
    "generate_and_save_images(model, 0, test_sample)\n",
    "\n",
    "for epoch in range(1, epochs + 1):\n",
    "  start_time = time.time()\n",
    "  for train_x in train_dataset:\n",
    "    train_step(model, train_x, optimizer)\n",
    "  end_time = time.time()\n",
    "\n",
    "  loss = tf.keras.metrics.Mean()\n",
    "  for test_x in test_dataset:\n",
    "    loss(compute_loss(model, test_x))\n",
    "  elbo = -loss.result()\n",
    "  display.clear_output(wait=False)\n",
    "  print('Epoch: {}, Test set ELBO: {}, time elapse for current epoch: {}'\n",
    "        .format(epoch, elbo, end_time - start_time))\n",
    "  generate_and_save_images(model, epoch, test_sample)"
   ]
  },
  {
   "cell_type": "markdown",
   "metadata": {
    "id": "P4M_vIbUi7c0"
   },
   "source": [
    "### Display a generated image from the last training epoch"
   ]
  },
  {
   "cell_type": "code",
   "execution_count": 39,
   "metadata": {
    "execution": {
     "iopub.execute_input": "2024-08-16T06:57:54.515039Z",
     "iopub.status.busy": "2024-08-16T06:57:54.514565Z",
     "iopub.status.idle": "2024-08-16T06:57:54.518193Z",
     "shell.execute_reply": "2024-08-16T06:57:54.517592Z"
    },
    "id": "WfO5wCdclHGL"
   },
   "outputs": [],
   "source": [
    "def display_image(epoch_no):\n",
    "  return PIL.Image.open('image_at_epoch_{:04d}.png'.format(epoch_no))"
   ]
  },
  {
   "cell_type": "code",
   "execution_count": 40,
   "metadata": {
    "execution": {
     "iopub.execute_input": "2024-08-16T06:57:54.521292Z",
     "iopub.status.busy": "2024-08-16T06:57:54.520926Z",
     "iopub.status.idle": "2024-08-16T06:57:54.598591Z",
     "shell.execute_reply": "2024-08-16T06:57:54.597965Z"
    },
    "id": "5x3q9_Oe5q0A"
   },
   "outputs": [
    {
     "data": {
      "text/plain": [
       "(-0.5, 399.5, 399.5, -0.5)"
      ]
     },
     "execution_count": 40,
     "metadata": {},
     "output_type": "execute_result"
    },
    {
     "data": {
      "image/png": "[encoded data removed]",
      "text/plain": [
       "<Figure size 640x480 with 1 Axes>"
      ]
     },
     "metadata": {},
     "output_type": "display_data"
    }
   ],
   "source": [
    "plt.imshow(display_image(epoch))\n",
    "plt.axis('off')  # Display images"
   ]
  },
  {
   "cell_type": "markdown",
   "metadata": {
    "id": "NywiH3nL8guF"
   },
   "source": [
    "### Display an animated GIF of all the saved images"
   ]
  },
  {
   "cell_type": "code",
   "execution_count": 41,
   "metadata": {
    "execution": {
     "iopub.execute_input": "2024-08-16T06:57:54.602302Z",
     "iopub.status.busy": "2024-08-16T06:57:54.601602Z",
     "iopub.status.idle": "2024-08-16T06:57:54.759098Z",
     "shell.execute_reply": "2024-08-16T06:57:54.758463Z"
    },
    "id": "IGKQgENQ8lEI"
   },
   "outputs": [
    {
     "name": "stderr",
     "output_type": "stream",
     "text": [
      "/var/folders/fq/09kvyhs13yv_g91hj_p6y7m00000gn/T/ipykernel_35389/1290275450.py:7: DeprecationWarning: Starting with ImageIO v3 the behavior of this function will switch to that of iio.v3.imread. To keep the current behavior (and make this warning disappear) use `import imageio.v2 as imageio` or call `imageio.v2.imread` directly.\n",
      "  image = imageio.imread(filename)\n",
      "/var/folders/fq/09kvyhs13yv_g91hj_p6y7m00000gn/T/ipykernel_35389/1290275450.py:9: DeprecationWarning: Starting with ImageIO v3 the behavior of this function will switch to that of iio.v3.imread. To keep the current behavior (and make this warning disappear) use `import imageio.v2 as imageio` or call `imageio.v2.imread` directly.\n",
      "  image = imageio.imread(filename)\n"
     ]
    }
   ],
   "source": [
    "anim_file = 'cvae.gif'\n",
    "\n",
    "with imageio.get_writer(anim_file, mode='I') as writer:\n",
    "  filenames = glob.glob('image*.png')\n",
    "  filenames = sorted(filenames)\n",
    "  for filename in filenames:\n",
    "    image = imageio.imread(filename)\n",
    "    writer.append_data(image)\n",
    "  image = imageio.imread(filename)\n",
    "  writer.append_data(image)"
   ]
  },
  {
   "cell_type": "code",
   "execution_count": 42,
   "metadata": {
    "execution": {
     "iopub.execute_input": "2024-08-16T06:57:54.762868Z",
     "iopub.status.busy": "2024-08-16T06:57:54.762122Z",
     "iopub.status.idle": "2024-08-16T06:57:54.773254Z",
     "shell.execute_reply": "2024-08-16T06:57:54.772564Z"
    },
    "id": "2ZqAEtdqUmJF"
   },
   "outputs": [
    {
     "data": {
      "text/html": [
       "<img src=\"data:image/gif;base64,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\"/>"
      ],
      "text/plain": [
       "<IPython.core.display.HTML object>"
      ]
     },
     "execution_count": 42,
     "metadata": {},
     "output_type": "execute_result"
    }
   ],
   "source": [
    "import tensorflow_docs.vis.embed as embed\n",
    "embed.embed_file(anim_file)"
   ]
  },
  {
   "cell_type": "markdown",
   "metadata": {
    "id": "PeunRU6TSumT"
   },
   "source": [
    "### Display a 2D manifold of digits from the latent space\n",
    "\n",
    "Running the code below will show a continuous distribution of the different digit classes, with each digit morphing into another across the 2D latent space. Use [TensorFlow Probability](https://www.tensorflow.org/probability) to generate a standard normal distribution for the latent space."
   ]
  },
  {
   "cell_type": "code",
   "execution_count": 43,
   "metadata": {
    "cellView": "code",
    "execution": {
     "iopub.execute_input": "2024-08-16T06:57:54.778273Z",
     "iopub.status.busy": "2024-08-16T06:57:54.777662Z",
     "iopub.status.idle": "2024-08-16T06:57:54.785647Z",
     "shell.execute_reply": "2024-08-16T06:57:54.785042Z"
    },
    "id": "mNcaaYPBS3mj"
   },
   "outputs": [],
   "source": [
    "def plot_latent_images(model, n, digit_size=28):\n",
    "  \"\"\"Plots n x n digit images decoded from the latent space.\"\"\"\n",
    "\n",
    "  norm = tfp.distributions.Normal(0, 1)\n",
    "  grid_x = norm.quantile(np.linspace(0.05, 0.95, n))\n",
    "  grid_y = norm.quantile(np.linspace(0.05, 0.95, n))\n",
    "  image_width = digit_size*n\n",
    "  image_height = image_width\n",
    "  image = np.zeros((image_height, image_width))\n",
    "\n",
    "  for i, yi in enumerate(grid_x):\n",
    "    for j, xi in enumerate(grid_y):\n",
    "      z = np.array([[xi, yi]])\n",
    "      x_decoded = model.sample(z)\n",
    "      digit = tf.reshape(x_decoded[0], (digit_size, digit_size))\n",
    "      image[i * digit_size: (i + 1) * digit_size,\n",
    "            j * digit_size: (j + 1) * digit_size] = digit.numpy()\n",
    "\n",
    "  plt.figure(figsize=(10, 10))\n",
    "  plt.imshow(image, cmap='Greys_r')\n",
    "  plt.axis('Off')\n",
    "  plt.show()"
   ]
  },
  {
   "cell_type": "code",
   "execution_count": 44,
   "metadata": {
    "execution": {
     "iopub.execute_input": "2024-08-16T06:57:54.788901Z",
     "iopub.status.busy": "2024-08-16T06:57:54.788494Z",
     "iopub.status.idle": "2024-08-16T06:57:56.029958Z",
     "shell.execute_reply": "2024-08-16T06:57:56.029300Z"
    },
    "id": "F-ZG69QCZnGY"
   },
   "outputs": [
    {
     "ename": "InvalidArgumentError",
     "evalue": "{{function_node __wrapped__Reshape_device_/job:localhost/replica:0/task:0/device:CPU:0}} Input to reshape is a tensor with 2352 values, but the requested shape has 784 [Op:Reshape]",
     "output_type": "error",
     "traceback": [
      "\u001b[0;31m---------------------------------------------------------------------------\u001b[0m",
      "\u001b[0;31mInvalidArgumentError\u001b[0m                      Traceback (most recent call last)",
      "Cell \u001b[0;32mIn[44], line 1\u001b[0m\n\u001b[0;32m----> 1\u001b[0m \u001b[43mplot_latent_images\u001b[49m\u001b[43m(\u001b[49m\u001b[43mmodel\u001b[49m\u001b[43m,\u001b[49m\u001b[43m \u001b[49m\u001b[38;5;241;43m20\u001b[39;49m\u001b[43m)\u001b[49m\n",
      "Cell \u001b[0;32mIn[43], line 15\u001b[0m, in \u001b[0;36mplot_latent_images\u001b[0;34m(model, n, digit_size)\u001b[0m\n\u001b[1;32m     13\u001b[0m     z \u001b[38;5;241m=\u001b[39m np\u001b[38;5;241m.\u001b[39marray([[xi, yi]])\n\u001b[1;32m     14\u001b[0m     x_decoded \u001b[38;5;241m=\u001b[39m model\u001b[38;5;241m.\u001b[39msample(z)\n\u001b[0;32m---> 15\u001b[0m     digit \u001b[38;5;241m=\u001b[39m \u001b[43mtf\u001b[49m\u001b[38;5;241;43m.\u001b[39;49m\u001b[43mreshape\u001b[49m\u001b[43m(\u001b[49m\u001b[43mx_decoded\u001b[49m\u001b[43m[\u001b[49m\u001b[38;5;241;43m0\u001b[39;49m\u001b[43m]\u001b[49m\u001b[43m,\u001b[49m\u001b[43m \u001b[49m\u001b[43m(\u001b[49m\u001b[43mdigit_size\u001b[49m\u001b[43m,\u001b[49m\u001b[43m \u001b[49m\u001b[43mdigit_size\u001b[49m\u001b[43m)\u001b[49m\u001b[43m)\u001b[49m\n\u001b[1;32m     16\u001b[0m     image[i \u001b[38;5;241m*\u001b[39m digit_size: (i \u001b[38;5;241m+\u001b[39m \u001b[38;5;241m1\u001b[39m) \u001b[38;5;241m*\u001b[39m digit_size,\n\u001b[1;32m     17\u001b[0m           j \u001b[38;5;241m*\u001b[39m digit_size: (j \u001b[38;5;241m+\u001b[39m \u001b[38;5;241m1\u001b[39m) \u001b[38;5;241m*\u001b[39m digit_size] \u001b[38;5;241m=\u001b[39m digit\u001b[38;5;241m.\u001b[39mnumpy()\n\u001b[1;32m     19\u001b[0m plt\u001b[38;5;241m.\u001b[39mfigure(figsize\u001b[38;5;241m=\u001b[39m(\u001b[38;5;241m10\u001b[39m, \u001b[38;5;241m10\u001b[39m))\n",
      "File \u001b[0;32m~/Library/Python/3.9/lib/python/site-packages/tensorflow/python/ops/weak_tensor_ops.py:88\u001b[0m, in \u001b[0;36mweak_tensor_unary_op_wrapper.<locals>.wrapper\u001b[0;34m(*args, **kwargs)\u001b[0m\n\u001b[1;32m     86\u001b[0m \u001b[38;5;28;01mdef\u001b[39;00m \u001b[38;5;21mwrapper\u001b[39m(\u001b[38;5;241m*\u001b[39margs, \u001b[38;5;241m*\u001b[39m\u001b[38;5;241m*\u001b[39mkwargs):\n\u001b[1;32m     87\u001b[0m   \u001b[38;5;28;01mif\u001b[39;00m \u001b[38;5;129;01mnot\u001b[39;00m ops\u001b[38;5;241m.\u001b[39mis_auto_dtype_conversion_enabled():\n\u001b[0;32m---> 88\u001b[0m     \u001b[38;5;28;01mreturn\u001b[39;00m \u001b[43mop\u001b[49m\u001b[43m(\u001b[49m\u001b[38;5;241;43m*\u001b[39;49m\u001b[43margs\u001b[49m\u001b[43m,\u001b[49m\u001b[43m \u001b[49m\u001b[38;5;241;43m*\u001b[39;49m\u001b[38;5;241;43m*\u001b[39;49m\u001b[43mkwargs\u001b[49m\u001b[43m)\u001b[49m\n\u001b[1;32m     89\u001b[0m   bound_arguments \u001b[38;5;241m=\u001b[39m signature\u001b[38;5;241m.\u001b[39mbind(\u001b[38;5;241m*\u001b[39margs, \u001b[38;5;241m*\u001b[39m\u001b[38;5;241m*\u001b[39mkwargs)\n\u001b[1;32m     90\u001b[0m   bound_arguments\u001b[38;5;241m.\u001b[39mapply_defaults()\n",
      "File \u001b[0;32m~/Library/Python/3.9/lib/python/site-packages/tensorflow/python/util/traceback_utils.py:153\u001b[0m, in \u001b[0;36mfilter_traceback.<locals>.error_handler\u001b[0;34m(*args, **kwargs)\u001b[0m\n\u001b[1;32m    151\u001b[0m \u001b[38;5;28;01mexcept\u001b[39;00m \u001b[38;5;167;01mException\u001b[39;00m \u001b[38;5;28;01mas\u001b[39;00m e:\n\u001b[1;32m    152\u001b[0m   filtered_tb \u001b[38;5;241m=\u001b[39m _process_traceback_frames(e\u001b[38;5;241m.\u001b[39m__traceback__)\n\u001b[0;32m--> 153\u001b[0m   \u001b[38;5;28;01mraise\u001b[39;00m e\u001b[38;5;241m.\u001b[39mwith_traceback(filtered_tb) \u001b[38;5;28;01mfrom\u001b[39;00m \u001b[38;5;28;01mNone\u001b[39;00m\n\u001b[1;32m    154\u001b[0m \u001b[38;5;28;01mfinally\u001b[39;00m:\n\u001b[1;32m    155\u001b[0m   \u001b[38;5;28;01mdel\u001b[39;00m filtered_tb\n",
      "File \u001b[0;32m~/Library/Python/3.9/lib/python/site-packages/tensorflow/python/eager/execute.py:53\u001b[0m, in \u001b[0;36mquick_execute\u001b[0;34m(op_name, num_outputs, inputs, attrs, ctx, name)\u001b[0m\n\u001b[1;32m     51\u001b[0m \u001b[38;5;28;01mtry\u001b[39;00m:\n\u001b[1;32m     52\u001b[0m   ctx\u001b[38;5;241m.\u001b[39mensure_initialized()\n\u001b[0;32m---> 53\u001b[0m   tensors \u001b[38;5;241m=\u001b[39m pywrap_tfe\u001b[38;5;241m.\u001b[39mTFE_Py_Execute(ctx\u001b[38;5;241m.\u001b[39m_handle, device_name, op_name,\n\u001b[1;32m     54\u001b[0m                                       inputs, attrs, num_outputs)\n\u001b[1;32m     55\u001b[0m \u001b[38;5;28;01mexcept\u001b[39;00m core\u001b[38;5;241m.\u001b[39m_NotOkStatusException \u001b[38;5;28;01mas\u001b[39;00m e:\n\u001b[1;32m     56\u001b[0m   \u001b[38;5;28;01mif\u001b[39;00m name \u001b[38;5;129;01mis\u001b[39;00m \u001b[38;5;129;01mnot\u001b[39;00m \u001b[38;5;28;01mNone\u001b[39;00m:\n",
      "\u001b[0;31mInvalidArgumentError\u001b[0m: {{function_node __wrapped__Reshape_device_/job:localhost/replica:0/task:0/device:CPU:0}} Input to reshape is a tensor with 2352 values, but the requested shape has 784 [Op:Reshape]"
     ]
    }
   ],
   "source": [
    "plot_latent_images(model, 20)"
   ]
  },
  {
   "cell_type": "markdown",
   "metadata": {
    "id": "HrJRef8Ln945"
   },
   "source": [
    "## Next steps\n",
    "\n",
    "This tutorial has demonstrated how to implement a convolutional variational autoencoder using TensorFlow. \n",
    "\n",
    "As a next step, you could try to improve the model output by increasing the network size. \n",
    "For instance, you could try setting the `filter` parameters for each of the `Conv2D` and `Conv2DTranspose` layers to 512. \n",
    "Note that in order to generate the final 2D latent image plot, you would need to keep `latent_dim` to 2. Also, the training time would increase as the network size increases.\n",
    "\n",
    "You could also try implementing a VAE using a different dataset, such as CIFAR-10.\n",
    "\n",
    "VAEs can be implemented in several different styles and of varying complexity. You can find additional implementations in the following sources:\n",
    "- [Variational AutoEncoder (keras.io)](https://keras.io/examples/generative/vae/)\n",
    "- [VAE example from \"Writing custom layers and models\" guide (tensorflow.org)](https://www.tensorflow.org/guide/keras/custom_layers_and_models#putting_it_all_together_an_end-to-end_example)\n",
    "- [TFP Probabilistic Layers: Variational Auto Encoder](https://www.tensorflow.org/probability/examples/Probabilistic_Layers_VAE)\n",
    "\n",
    "If you'd like to learn more about the details of VAEs, please refer to [An Introduction to Variational Autoencoders](https://arxiv.org/abs/1906.02691)."
   ]
  }
 ],
 "metadata": {
  "accelerator": "GPU",
  "colab": {
   "collapsed_sections": [],
   "name": "cvae.ipynb",
   "toc_visible": true
  },
  "kernelspec": {
   "display_name": "Python 3",
   "name": "python3"
  },
  "language_info": {
   "codemirror_mode": {
    "name": "ipython",
    "version": 3
   },
   "file_extension": ".py",
   "mimetype": "text/x-python",
   "name": "python",
   "nbconvert_exporter": "python",
   "pygments_lexer": "ipython3",
   "version": "3.9.6"
  }
 },
 "nbformat": 4,
 "nbformat_minor": 0
}
